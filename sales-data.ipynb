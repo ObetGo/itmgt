{
 "cells": [
  {
   "cell_type": "code",
   "execution_count": 138,
   "id": "8d0700fa-173c-4106-9185-67d630f892a9",
   "metadata": {
    "tags": []
   },
   "outputs": [],
   "source": [
    "import pandas as pd\n",
    "\n",
    "invoice = pd.read_csv('Downloads/fct_invoice.csv')\n",
    "customer = pd.read_json('Downloads/dim_customer.json')\n",
    "\n",
    "df = pd.merge(customer, invoice, left_on='id',right_on='customer_id',how='inner')"
   ]
  },
  {
   "cell_type": "markdown",
   "id": "ae6b9990-4b55-43d1-807e-a48b7d71b535",
   "metadata": {},
   "source": [
    "# How many unique customers are in the dataset?"
   ]
  },
  {
   "cell_type": "code",
   "execution_count": 148,
   "id": "a3c1fc1d-ea94-4557-92ff-d4ca6b50b4ce",
   "metadata": {
    "tags": []
   },
   "outputs": [
    {
     "name": "stdout",
     "output_type": "stream",
     "text": [
      "5191\n"
     ]
    }
   ],
   "source": [
    "print(len(customer.index))"
   ]
  },
  {
   "cell_type": "markdown",
   "id": "27b44a7a-fb82-4260-920c-f577c1c1e922",
   "metadata": {},
   "source": [
    "# What are the different categories of products available? How many unique categories are there?"
   ]
  },
  {
   "cell_type": "code",
   "execution_count": 143,
   "id": "fea0089d-3564-4472-9093-8102011b573a",
   "metadata": {
    "tags": []
   },
   "outputs": [
    {
     "name": "stdout",
     "output_type": "stream",
     "text": [
      "['Shoes' 'Cosmetics' 'Books' 'Toys' 'Clothing' 'Food & Beverage'\n",
      " 'Technology' 'Souvenir']\n",
      "8\n"
     ]
    }
   ],
   "source": [
    "print(df['category'].unique())\n",
    "print(df['category'].nunique())"
   ]
  },
  {
   "cell_type": "markdown",
   "id": "cf64ad73-628a-4c2e-9886-8383552a97ab",
   "metadata": {
    "tags": []
   },
   "source": [
    "# Which payment method is the most popular? How many times was it used?"
   ]
  },
  {
   "cell_type": "code",
   "execution_count": 151,
   "id": "4ae5aef7-87e5-4033-9b93-783c5de889cd",
   "metadata": {
    "tags": []
   },
   "outputs": [
    {
     "name": "stdout",
     "output_type": "stream",
     "text": [
      "Cash\n",
      "44447\n"
     ]
    }
   ],
   "source": [
    "print(df['payment_method'].value_counts().idxmax())\n",
    "print(df['payment_method'].value_counts()['Cash'])"
   ]
  },
  {
   "cell_type": "markdown",
   "id": "8e0d0b32-b2f1-4479-a974-994d1e234642",
   "metadata": {},
   "source": [
    "# What are the three most popular categories, by total sales?"
   ]
  },
  {
   "cell_type": "code",
   "execution_count": 150,
   "id": "fc4ba8e3-61c5-4566-a6d4-b6c28f8c76e4",
   "metadata": {
    "tags": []
   },
   "outputs": [
    {
     "name": "stdout",
     "output_type": "stream",
     "text": [
      "['Clothing', 'Shoes', 'Technology']\n"
     ]
    }
   ],
   "source": [
    "df['sales'] = df['quantity'] * df['price']\n",
    "print(df.groupby('category')['sales'].sum().nlargest(3).index.tolist())"
   ]
  },
  {
   "cell_type": "markdown",
   "id": "00560fb5-aede-4b26-a077-01920e3ea633",
   "metadata": {},
   "source": [
    "#  What are the total sales attributed to customers over the age of 45?"
   ]
  },
  {
   "cell_type": "code",
   "execution_count": 153,
   "id": "78f7b3e6-f45a-46bb-a7e6-da743120c061",
   "metadata": {
    "tags": []
   },
   "outputs": [
    {
     "name": "stdout",
     "output_type": "stream",
     "text": [
      "82039768.14999999\n"
     ]
    }
   ],
   "source": [
    "print(df.loc[df['age'] > 45, 'sales'].sum())"
   ]
  },
  {
   "cell_type": "markdown",
   "id": "5c68f582-5692-470c-8e51-0cb635343227",
   "metadata": {},
   "source": [
    "# How is the data distributed across different invoice dates? Are there any seasonal trends or patterns? (Use a graph for this.)"
   ]
  },
  {
   "cell_type": "code",
   "execution_count": 411,
   "id": "12f8bea1-eb62-4ed1-879f-093a76040a36",
   "metadata": {
    "tags": []
   },
   "outputs": [
    {
     "data": {
      "image/png": "[encoded data removed]",
      "text/plain": [
       "<Figure size 640x480 with 1 Axes>"
      ]
     },
     "metadata": {},
     "output_type": "display_data"
    }
   ],
   "source": [
    "import matplotlib.pyplot as plt\n",
    "\n",
    "year_list = df['year'].unique().tolist()\n",
    "year_list.sort()\n",
    "quarterly_sales_by_year = []\n",
    "quarterly_sales = []\n",
    "quarters = ['Q1','Q2','Q3','Q4']\n",
    "num_quarters = []\n",
    "x_axis = []\n",
    "\n",
    "for year in year_list:\n",
    "    quarterly_sales_by_year.append(list(df.loc[df['year'] == year].groupby(df.date.dt.quarter)['sales'].sum()/1000000))\n",
    "    quarterly_sales.extend(list(df.loc[df['year'] == year].groupby(df.date.dt.quarter)['sales'].sum()/1000000))\n",
    "    \n",
    "for i in range(3):\n",
    "    num_quarters.append(len(quarterly_sales_by_year[i]))\n",
    "    \n",
    "for year, num_quarter in zip(year_list, num_quarters):\n",
    "    for quarter in range(1, num_quarter + 1):\n",
    "        x_axis.append(f\"{year} Q{quarter}\")\n",
    "\n",
    "fig, ax = plt.subplots()\n",
    "\n",
    "ax.bar(x_axis, quarterly_sales)\n",
    "\n",
    "ax.set_ylabel('Sales (in millions)')\n",
    "ax.set_title('Quarterly Sales')\n",
    "plt.xticks(rotation=30)\n",
    "plt.show()"
   ]
  },
  {
   "cell_type": "markdown",
   "id": "632c84f4-3865-4334-a065-719d13e5fb83",
   "metadata": {},
   "source": [
    "# Create a pivot table showing the breakdown of sales across these dimensions, in this order: category, decade age range (e.g., 10-19, 20-29, and so forth)."
   ]
  },
  {
   "cell_type": "code",
   "execution_count": 516,
   "id": "bc8323c1-ed1b-4208-a13d-2331fca3084e",
   "metadata": {
    "tags": []
   },
   "outputs": [
    {
     "data": {
      "text/html": [
       "<div>\n",
       "<style scoped>\n",
       "    .dataframe tbody tr th:only-of-type {\n",
       "        vertical-align: middle;\n",
       "    }\n",
       "\n",
       "    .dataframe tbody tr th {\n",
       "        vertical-align: top;\n",
       "    }\n",
       "\n",
       "    .dataframe thead th {\n",
       "        text-align: right;\n",
       "    }\n",
       "</style>\n",
       "<table border=\"1\" class=\"dataframe\">\n",
       "  <thead>\n",
       "    <tr style=\"text-align: right;\">\n",
       "      <th>age_range</th>\n",
       "      <th>0-9</th>\n",
       "      <th>10-19</th>\n",
       "      <th>20-29</th>\n",
       "      <th>30-39</th>\n",
       "      <th>40-49</th>\n",
       "      <th>50-59</th>\n",
       "      <th>60-69</th>\n",
       "      <th>70-79</th>\n",
       "      <th>80-89</th>\n",
       "      <th>90-99</th>\n",
       "    </tr>\n",
       "    <tr>\n",
       "      <th>category</th>\n",
       "      <th></th>\n",
       "      <th></th>\n",
       "      <th></th>\n",
       "      <th></th>\n",
       "      <th></th>\n",
       "      <th></th>\n",
       "      <th></th>\n",
       "      <th></th>\n",
       "      <th></th>\n",
       "      <th></th>\n",
       "    </tr>\n",
       "  </thead>\n",
       "  <tbody>\n",
       "    <tr>\n",
       "      <th>Books</th>\n",
       "      <td>0.0</td>\n",
       "      <td>7923.45</td>\n",
       "      <td>76022.70</td>\n",
       "      <td>87157.95</td>\n",
       "      <td>87885.15</td>\n",
       "      <td>72735.15</td>\n",
       "      <td>81885.75</td>\n",
       "      <td>57706.35</td>\n",
       "      <td>29224.35</td>\n",
       "      <td>0.0</td>\n",
       "    </tr>\n",
       "    <tr>\n",
       "      <th>Clothing</th>\n",
       "      <td>0.0</td>\n",
       "      <td>1144505.12</td>\n",
       "      <td>9959955.28</td>\n",
       "      <td>11540776.72</td>\n",
       "      <td>11447451.84</td>\n",
       "      <td>9943150.80</td>\n",
       "      <td>11083154.72</td>\n",
       "      <td>8061649.20</td>\n",
       "      <td>4812382.96</td>\n",
       "      <td>0.0</td>\n",
       "    </tr>\n",
       "    <tr>\n",
       "      <th>Cosmetics</th>\n",
       "      <td>0.0</td>\n",
       "      <td>65991.18</td>\n",
       "      <td>583796.28</td>\n",
       "      <td>731310.76</td>\n",
       "      <td>682396.78</td>\n",
       "      <td>563954.20</td>\n",
       "      <td>669832.84</td>\n",
       "      <td>443722.58</td>\n",
       "      <td>274495.66</td>\n",
       "      <td>0.0</td>\n",
       "    </tr>\n",
       "    <tr>\n",
       "      <th>Food &amp; Beverage</th>\n",
       "      <td>0.0</td>\n",
       "      <td>9434.92</td>\n",
       "      <td>68633.29</td>\n",
       "      <td>87911.07</td>\n",
       "      <td>91922.48</td>\n",
       "      <td>72132.16</td>\n",
       "      <td>81488.63</td>\n",
       "      <td>58256.97</td>\n",
       "      <td>33879.94</td>\n",
       "      <td>0.0</td>\n",
       "    </tr>\n",
       "    <tr>\n",
       "      <th>Shoes</th>\n",
       "      <td>0.0</td>\n",
       "      <td>634379.69</td>\n",
       "      <td>5571978.28</td>\n",
       "      <td>7303468.73</td>\n",
       "      <td>7163028.95</td>\n",
       "      <td>5778436.76</td>\n",
       "      <td>6131336.72</td>\n",
       "      <td>4675324.30</td>\n",
       "      <td>2827400.87</td>\n",
       "      <td>0.0</td>\n",
       "    </tr>\n",
       "    <tr>\n",
       "      <th>Souvenir</th>\n",
       "      <td>0.0</td>\n",
       "      <td>6181.71</td>\n",
       "      <td>54438.93</td>\n",
       "      <td>63834.66</td>\n",
       "      <td>68444.55</td>\n",
       "      <td>54966.78</td>\n",
       "      <td>57418.35</td>\n",
       "      <td>38216.34</td>\n",
       "      <td>26662.29</td>\n",
       "      <td>0.0</td>\n",
       "    </tr>\n",
       "    <tr>\n",
       "      <th>Technology</th>\n",
       "      <td>0.0</td>\n",
       "      <td>739200.00</td>\n",
       "      <td>5053650.00</td>\n",
       "      <td>6298950.00</td>\n",
       "      <td>6082650.00</td>\n",
       "      <td>4458300.00</td>\n",
       "      <td>5421150.00</td>\n",
       "      <td>3808350.00</td>\n",
       "      <td>2134650.00</td>\n",
       "      <td>0.0</td>\n",
       "    </tr>\n",
       "    <tr>\n",
       "      <th>Toys</th>\n",
       "      <td>0.0</td>\n",
       "      <td>35911.68</td>\n",
       "      <td>366392.32</td>\n",
       "      <td>424704.00</td>\n",
       "      <td>408253.44</td>\n",
       "      <td>330516.48</td>\n",
       "      <td>370693.12</td>\n",
       "      <td>293888.00</td>\n",
       "      <td>162856.96</td>\n",
       "      <td>0.0</td>\n",
       "    </tr>\n",
       "  </tbody>\n",
       "</table>\n",
       "</div>"
      ],
      "text/plain": [
       "age_range        0-9       10-19       20-29        30-39        40-49  \\\n",
       "category                                                                 \n",
       "Books            0.0     7923.45    76022.70     87157.95     87885.15   \n",
       "Clothing         0.0  1144505.12  9959955.28  11540776.72  11447451.84   \n",
       "Cosmetics        0.0    65991.18   583796.28    731310.76    682396.78   \n",
       "Food & Beverage  0.0     9434.92    68633.29     87911.07     91922.48   \n",
       "Shoes            0.0   634379.69  5571978.28   7303468.73   7163028.95   \n",
       "Souvenir         0.0     6181.71    54438.93     63834.66     68444.55   \n",
       "Technology       0.0   739200.00  5053650.00   6298950.00   6082650.00   \n",
       "Toys             0.0    35911.68   366392.32    424704.00    408253.44   \n",
       "\n",
       "age_range             50-59        60-69       70-79       80-89  90-99  \n",
       "category                                                                 \n",
       "Books              72735.15     81885.75    57706.35    29224.35    0.0  \n",
       "Clothing         9943150.80  11083154.72  8061649.20  4812382.96    0.0  \n",
       "Cosmetics         563954.20    669832.84   443722.58   274495.66    0.0  \n",
       "Food & Beverage    72132.16     81488.63    58256.97    33879.94    0.0  \n",
       "Shoes            5778436.76   6131336.72  4675324.30  2827400.87    0.0  \n",
       "Souvenir           54966.78     57418.35    38216.34    26662.29    0.0  \n",
       "Technology       4458300.00   5421150.00  3808350.00  2134650.00    0.0  \n",
       "Toys              330516.48    370693.12   293888.00   162856.96    0.0  "
      ]
     },
     "execution_count": 516,
     "metadata": {},
     "output_type": "execute_result"
    }
   ],
   "source": [
    "categories = list(df['category'].unique())\n",
    "\n",
    "labels = []\n",
    "for i in range(10):\n",
    "    start_age = i * 10\n",
    "    end_age = start_age + 9\n",
    "    range_label = f\"{start_age}-{end_age}\"\n",
    "    labels.append(range_label)\n",
    "\n",
    "    bins = [0, 9, 19, 29, 39, 49, 59, 69, 79, 89, 99]\n",
    "df['age_range'] = pd.cut(df['age'], bins=bins, labels=labels, right=False)\n",
    "\n",
    "pd.pivot_table(df, values='sales', index='category', columns='age_range', aggfunc='sum')\n"
   ]
  }
 ],
 "metadata": {
  "kernelspec": {
   "display_name": "Python 3 (ipykernel)",
   "language": "python",
   "name": "python3"
  },
  "language_info": {
   "codemirror_mode": {
    "name": "ipython",
    "version": 3
   },
   "file_extension": ".py",
   "mimetype": "text/x-python",
   "name": "python",
   "nbconvert_exporter": "python",
   "pygments_lexer": "ipython3",
   "version": "3.10.9"
  }
 },
 "nbformat": 4,
 "nbformat_minor": 5
}
