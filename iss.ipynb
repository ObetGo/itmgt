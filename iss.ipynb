{
 "cells": [
  {
   "cell_type": "code",
   "execution_count": 41,
   "id": "5ff4d66b-e3df-4a93-9b78-412f02761fad",
   "metadata": {
    "tags": []
   },
   "outputs": [
    {
     "name": "stdout",
     "output_type": "stream",
     "text": [
      "{'timestamp': 1688541968, 'message': 'success', 'iss_position': {'longitude': '-78.1826', 'latitude': '50.9697'}}\n",
      "{'timestamp': 1688541979, 'message': 'success', 'iss_position': {'longitude': '-77.2079', 'latitude': '51.0735'}}\n",
      "{'timestamp': 1688541989, 'message': 'success', 'iss_position': {'longitude': '-76.2289', 'latitude': '51.1684'}}\n",
      "{'timestamp': 1688541999, 'message': 'success', 'iss_position': {'longitude': '-75.1968', 'latitude': '51.2585'}}\n",
      "{'timestamp': 1688542009, 'message': 'success', 'iss_position': {'longitude': '-74.2099', 'latitude': '51.3351'}}\n",
      "{'timestamp': 1688542020, 'message': 'success', 'iss_position': {'longitude': '-73.1704', 'latitude': '51.4058'}}\n",
      "{'timestamp': 1688542030, 'message': 'success', 'iss_position': {'longitude': '-72.1773', 'latitude': '51.4638'}}\n",
      "{'timestamp': 1688542040, 'message': 'success', 'iss_position': {'longitude': '-71.1818', 'latitude': '51.5126'}}\n",
      "{'timestamp': 1688542050, 'message': 'success', 'iss_position': {'longitude': '-70.1344', 'latitude': '51.5540'}}\n",
      "{'timestamp': 1688542060, 'message': 'success', 'iss_position': {'longitude': '-69.1353', 'latitude': '51.5840'}}\n",
      "{'timestamp': 1688542070, 'message': 'success', 'iss_position': {'longitude': '-68.1351', 'latitude': '51.6048'}}\n",
      "{'timestamp': 1688542081, 'message': 'success', 'iss_position': {'longitude': '-67.0839', 'latitude': '51.6166'}}\n",
      "{'timestamp': 1688542091, 'message': 'success', 'iss_position': {'longitude': '-66.0823', 'latitude': '51.6184'}}\n",
      "{'timestamp': 1688542101, 'message': 'success', 'iss_position': {'longitude': '-65.0310', 'latitude': '51.6104'}}\n",
      "{'timestamp': 1688542111, 'message': 'success', 'iss_position': {'longitude': '-64.0304', 'latitude': '51.5932'}}\n",
      "{'timestamp': 1688542121, 'message': 'success', 'iss_position': {'longitude': '-63.0307', 'latitude': '51.5668'}}\n",
      "{'timestamp': 1688542132, 'message': 'success', 'iss_position': {'longitude': '-61.9827', 'latitude': '51.5292'}}\n",
      "{'timestamp': 1688542142, 'message': 'success', 'iss_position': {'longitude': '-60.9866', 'latitude': '51.4839'}}\n",
      "{'timestamp': 1688542152, 'message': 'success', 'iss_position': {'longitude': '-59.9925', 'latitude': '51.4295'}}\n",
      "{'timestamp': 1688542162, 'message': 'success', 'iss_position': {'longitude': '-58.9517', 'latitude': '51.3626'}}\n",
      "{'timestamp': 1688542172, 'message': 'success', 'iss_position': {'longitude': '-57.9637', 'latitude': '51.2895'}}\n",
      "{'timestamp': 1688542182, 'message': 'success', 'iss_position': {'longitude': '-56.9791', 'latitude': '51.2075'}}\n",
      "{'timestamp': 1688542193, 'message': 'success', 'iss_position': {'longitude': '-55.9495', 'latitude': '51.1117'}}\n",
      "{'timestamp': 1688542203, 'message': 'success', 'iss_position': {'longitude': '-54.9731', 'latitude': '51.0113'}}\n",
      "{'timestamp': 1688542213, 'message': 'success', 'iss_position': {'longitude': '-54.0016', 'latitude': '50.9021'}}\n",
      "{'timestamp': 1688542223, 'message': 'success', 'iss_position': {'longitude': '-52.9865', 'latitude': '50.7781'}}\n",
      "{'timestamp': 1688542233, 'message': 'success', 'iss_position': {'longitude': '-52.0253', 'latitude': '50.6511'}}\n",
      "{'timestamp': 1688542243, 'message': 'success', 'iss_position': {'longitude': '-51.0696', 'latitude': '50.5155'}}\n",
      "{'timestamp': 1688542254, 'message': 'success', 'iss_position': {'longitude': '-50.0251', 'latitude': '50.3566'}}\n",
      "{'timestamp': 1688542265, 'message': 'success', 'iss_position': {'longitude': '-49.0351', 'latitude': '50.1954'}}\n",
      "{'timestamp': 1688542275, 'message': 'success', 'iss_position': {'longitude': '-48.0989', 'latitude': '50.0334'}}\n",
      "{'timestamp': 1688542285, 'message': 'success', 'iss_position': {'longitude': '-47.1695', 'latitude': '49.8632'}}\n",
      "{'timestamp': 1688542295, 'message': 'success', 'iss_position': {'longitude': '-46.2011', 'latitude': '49.6759'}}\n",
      "{'timestamp': 1688542305, 'message': 'success', 'iss_position': {'longitude': '-45.2863', 'latitude': '49.4893'}}\n",
      "{'timestamp': 1688542315, 'message': 'success', 'iss_position': {'longitude': '-44.3789', 'latitude': '49.2949'}}\n",
      "{'timestamp': 1688542326, 'message': 'success', 'iss_position': {'longitude': '-43.4344', 'latitude': '49.0825'}}\n",
      "{'timestamp': 1688542336, 'message': 'success', 'iss_position': {'longitude': '-42.5427', 'latitude': '48.8724'}}\n",
      "{'timestamp': 1688542347, 'message': 'success', 'iss_position': {'longitude': '-41.6151', 'latitude': '48.6437'}}\n",
      "{'timestamp': 1688542357, 'message': 'success', 'iss_position': {'longitude': '-40.7399', 'latitude': '48.4184'}}\n",
      "{'timestamp': 1688542367, 'message': 'success', 'iss_position': {'longitude': '-39.8731', 'latitude': '48.1859'}}\n",
      "{'timestamp': 1688542377, 'message': 'success', 'iss_position': {'longitude': '-38.9718', 'latitude': '47.9341'}}\n",
      "{'timestamp': 1688542387, 'message': 'success', 'iss_position': {'longitude': '-38.1221', 'latitude': '47.6871'}}\n",
      "{'timestamp': 1688542397, 'message': 'success', 'iss_position': {'longitude': '-37.2809', 'latitude': '47.4333'}}\n",
      "{'timestamp': 1688542408, 'message': 'success', 'iss_position': {'longitude': '-36.4070', 'latitude': '47.1596'}}\n",
      "{'timestamp': 1688542418, 'message': 'success', 'iss_position': {'longitude': '-35.5835', 'latitude': '46.8922'}}\n",
      "{'timestamp': 1688542428, 'message': 'success', 'iss_position': {'longitude': '-34.7687', 'latitude': '46.6182'}}\n",
      "{'timestamp': 1688542438, 'message': 'success', 'iss_position': {'longitude': '-33.9226', 'latitude': '46.3238'}}\n",
      "{'timestamp': 1688542448, 'message': 'success', 'iss_position': {'longitude': '-33.1257', 'latitude': '46.0370'}}\n",
      "{'timestamp': 1688542458, 'message': 'success', 'iss_position': {'longitude': '-32.3376', 'latitude': '45.7442'}}\n",
      "{'timestamp': 1688542469, 'message': 'success', 'iss_position': {'longitude': '-31.5195', 'latitude': '45.4303'}}\n",
      "{'timestamp': 1688542479, 'message': 'success', 'iss_position': {'longitude': '-30.7494', 'latitude': '45.1254'}}\n",
      "{'timestamp': 1688542489, 'message': 'success', 'iss_position': {'longitude': '-29.9501', 'latitude': '44.7991'}}\n",
      "{'timestamp': 1688542499, 'message': 'success', 'iss_position': {'longitude': '-29.1977', 'latitude': '44.4826'}}\n",
      "{'timestamp': 1688542509, 'message': 'success', 'iss_position': {'longitude': '-28.4540', 'latitude': '44.1607'}}\n",
      "{'timestamp': 1688542520, 'message': 'success', 'iss_position': {'longitude': '-27.6825', 'latitude': '43.8170'}}\n",
      "{'timestamp': 1688542530, 'message': 'success', 'iss_position': {'longitude': '-26.9565', 'latitude': '43.4843'}}\n",
      "{'timestamp': 1688542540, 'message': 'success', 'iss_position': {'longitude': '-26.2389', 'latitude': '43.1465'}}\n",
      "{'timestamp': 1688542550, 'message': 'success', 'iss_position': {'longitude': '-25.4945', 'latitude': '42.7864'}}\n",
      "{'timestamp': 1688542560, 'message': 'success', 'iss_position': {'longitude': '-24.7941', 'latitude': '42.4385'}}\n",
      "{'timestamp': 1688542570, 'message': 'success', 'iss_position': {'longitude': '-24.1019', 'latitude': '42.0859'}}\n",
      "{'timestamp': 1688542581, 'message': 'success', 'iss_position': {'longitude': '-23.3840', 'latitude': '41.7107'}}\n",
      "{'timestamp': 1688542591, 'message': 'success', 'iss_position': {'longitude': '-22.7086', 'latitude': '41.3488'}}\n",
      "{'timestamp': 1688542601, 'message': 'success', 'iss_position': {'longitude': '-22.0412', 'latitude': '40.9824'}}\n",
      "{'timestamp': 1688542611, 'message': 'success', 'iss_position': {'longitude': '-21.3487', 'latitude': '40.5930'}}\n",
      "{'timestamp': 1688542621, 'message': 'success', 'iss_position': {'longitude': '-20.6973', 'latitude': '40.2179'}}\n",
      "{'timestamp': 1688542631, 'message': 'success', 'iss_position': {'longitude': '-20.0536', 'latitude': '39.8387'}}\n",
      "{'timestamp': 1688542642, 'message': 'success', 'iss_position': {'longitude': '-19.3859', 'latitude': '39.4363'}}\n",
      "{'timestamp': 1688542652, 'message': 'success', 'iss_position': {'longitude': '-18.7576', 'latitude': '39.0490'}}\n",
      "{'timestamp': 1688542662, 'message': 'success', 'iss_position': {'longitude': '-18.1366', 'latitude': '38.6579'}}\n",
      "{'timestamp': 1688542673, 'message': 'success', 'iss_position': {'longitude': '-17.4925', 'latitude': '38.2433'}}\n",
      "{'timestamp': 1688542683, 'message': 'success', 'iss_position': {'longitude': '-16.8863', 'latitude': '37.8448'}}\n",
      "{'timestamp': 1688542693, 'message': 'success', 'iss_position': {'longitude': '-16.2574', 'latitude': '37.4225'}}\n",
      "{'timestamp': 1688542703, 'message': 'success', 'iss_position': {'longitude': '-15.6654', 'latitude': '37.0169'}}\n",
      "{'timestamp': 1688542713, 'message': 'success', 'iss_position': {'longitude': '-15.0802', 'latitude': '36.6078'}}\n",
      "{'timestamp': 1688542724, 'message': 'success', 'iss_position': {'longitude': '-14.4730', 'latitude': '36.1749'}}\n",
      "{'timestamp': 1688542734, 'message': 'success', 'iss_position': {'longitude': '-13.9013', 'latitude': '35.7593'}}\n",
      "{'timestamp': 1688542744, 'message': 'success', 'iss_position': {'longitude': '-13.3360', 'latitude': '35.3407'}}\n",
      "{'timestamp': 1688542754, 'message': 'success', 'iss_position': {'longitude': '-12.7493', 'latitude': '34.8978'}}\n",
      "{'timestamp': 1688542764, 'message': 'success', 'iss_position': {'longitude': '-12.1968', 'latitude': '34.4731'}}\n",
      "{'timestamp': 1688542774, 'message': 'success', 'iss_position': {'longitude': '-11.6504', 'latitude': '34.0455'}}\n",
      "{'timestamp': 1688542785, 'message': 'success', 'iss_position': {'longitude': '-11.0830', 'latitude': '33.5935'}}\n",
      "{'timestamp': 1688542795, 'message': 'success', 'iss_position': {'longitude': '-10.5220', 'latitude': '33.1386'}}\n",
      "{'timestamp': 1688542805, 'message': 'success', 'iss_position': {'longitude': '-9.9936', 'latitude': '32.7026'}}\n",
      "{'timestamp': 1688542815, 'message': 'success', 'iss_position': {'longitude': '-9.4708', 'latitude': '32.2641'}}\n",
      "{'timestamp': 1688542826, 'message': 'success', 'iss_position': {'longitude': '-8.9276', 'latitude': '31.8010'}}\n",
      "{'timestamp': 1688542836, 'message': 'success', 'iss_position': {'longitude': '-8.4158', 'latitude': '31.3574'}}\n",
      "{'timestamp': 1688542846, 'message': 'success', 'iss_position': {'longitude': '-7.9092', 'latitude': '30.9115'}}\n",
      "{'timestamp': 1688542856, 'message': 'success', 'iss_position': {'longitude': '-7.3829', 'latitude': '30.4409'}}\n",
      "{'timestamp': 1688542866, 'message': 'success', 'iss_position': {'longitude': '-6.8867', 'latitude': '29.9903'}}\n",
      "{'timestamp': 1688542876, 'message': 'success', 'iss_position': {'longitude': '-6.3954', 'latitude': '29.5376'}}\n",
      "{'timestamp': 1688542887, 'message': 'success', 'iss_position': {'longitude': '-5.8846', 'latitude': '29.0600'}}\n",
      "{'timestamp': 1688542897, 'message': 'success', 'iss_position': {'longitude': '-5.4029', 'latitude': '28.6030'}}\n",
      "{'timestamp': 1688542907, 'message': 'success', 'iss_position': {'longitude': '-4.9020', 'latitude': '28.1210'}}\n",
      "{'timestamp': 1688542917, 'message': 'success', 'iss_position': {'longitude': '-4.4295', 'latitude': '27.6599'}}\n",
      "{'timestamp': 1688542928, 'message': 'success', 'iss_position': {'longitude': '-3.9382', 'latitude': '27.1739'}}\n",
      "{'timestamp': 1688542938, 'message': 'success', 'iss_position': {'longitude': '-3.4746', 'latitude': '26.7091'}}\n",
      "{'timestamp': 1688542948, 'message': 'success', 'iss_position': {'longitude': '-2.9920', 'latitude': '26.2190'}}\n",
      "{'timestamp': 1688542958, 'message': 'success', 'iss_position': {'longitude': '-2.5368', 'latitude': '25.7506'}}\n",
      "{'timestamp': 1688542968, 'message': 'success', 'iss_position': {'longitude': '-2.0854', 'latitude': '25.2806'}}\n",
      "{'timestamp': 1688542979, 'message': 'success', 'iss_position': {'longitude': '-1.6157', 'latitude': '24.7854'}}\n"
     ]
    }
   ],
   "source": [
    "import requests\n",
    "import time\n",
    "import matplotlib.pyplot as plt\n",
    "import numpy as np\n",
    "\n",
    "latitude_list = []\n",
    "longitude_list = []\n",
    "for i in range(100):\n",
    "    reponse = requests.get('http://api.open-notify.org/iss-now.json')\n",
    "    data = reponse.json()\n",
    "    print(data)\n",
    "    time.sleep(10)\n",
    "    latitude = float(data['iss_position']['latitude'])\n",
    "    longitude = float(data['iss_position']['longitude'])\n",
    "    latitude_list.append(latitude)\n",
    "    longitude_list.append(longitude)"
   ]
  },
  {
   "cell_type": "code",
   "execution_count": 42,
   "id": "e039b618-d690-4771-9f71-58fc5681354a",
   "metadata": {
    "tags": []
   },
   "outputs": [
    {
     "data": {
      "image/png": "[encoded data removed]",
      "text/plain": [
       "<Figure size 640x480 with 1 Axes>"
      ]
     },
     "metadata": {},
     "output_type": "display_data"
    }
   ],
   "source": [
    "plt.scatter(longitude_list,latitude_list)\n",
    "plt.xlabel('Longitude')\n",
    "plt.ylabel('Latitude')\n",
    "plt.title('ISS Position')\n",
    "plt.show() "
   ]
  },
  {
   "cell_type": "code",
   "execution_count": null,
   "id": "e3cff182-ecf8-4ebf-80af-f7bea17849dd",
   "metadata": {},
   "outputs": [],
   "source": []
  }
 ],
 "metadata": {
  "kernelspec": {
   "display_name": "Python 3 (ipykernel)",
   "language": "python",
   "name": "python3"
  },
  "language_info": {
   "codemirror_mode": {
    "name": "ipython",
    "version": 3
   },
   "file_extension": ".py",
   "mimetype": "text/x-python",
   "name": "python",
   "nbconvert_exporter": "python",
   "pygments_lexer": "ipython3",
   "version": "3.10.9"
  }
 },
 "nbformat": 4,
 "nbformat_minor": 5
}
